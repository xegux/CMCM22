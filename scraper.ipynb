{
 "cells": [
  {
   "cell_type": "code",
   "execution_count": 1,
   "metadata": {},
   "outputs": [],
   "source": [
    "import pandas as pd\n",
    "import numpy as np\n",
    "import tabula\n",
    "import geopy\n",
    "import geopandas\n",
    "import requests"
   ]
  },
  {
   "cell_type": "code",
   "execution_count": 74,
   "metadata": {},
   "outputs": [
    {
     "data": {
      "text/plain": [
       "307"
      ]
     },
     "execution_count": 74,
     "metadata": {},
     "output_type": "execute_result"
    }
   ],
   "source": [
    "# read pdf to dataframe - doesn't work for sept22.pdf\n",
    "dfs = tabula.read_pdf(\"trafficcount.pdf\", output_format='dataframe', pages='7-13', lattice=False)\n",
    "# df = pd.DataFrame(df)\n",
    "# df.head()\n",
    "# tab = pd.DataFrame(tabula.read_pdf('trafficcount.pdf', pages ='7-13')[0])\n",
    "df = pd.DataFrame()\n",
    "# for i in dfs:\n",
    "df = pd.concat(dfs)\n",
    "df = df.dropna(axis='rows',thresh=3)\n",
    "df = df[['Count Location', 'Muni', 'FROM', 'TO', 'Year', 'AADT']]\n",
    "df.head(10)\n",
    "len(df)\n",
    "\n"
   ]
  },
  {
   "cell_type": "code",
   "execution_count": 60,
   "metadata": {},
   "outputs": [],
   "source": [
    "# extract key from env\n",
    "import os\n",
    "from dotenv import load_dotenv\n",
    "\n",
    "load_dotenv()  # take environment variables from .env.\n",
    "key = os.environ.get(\"API_KEY\")"
   ]
  },
  {
   "cell_type": "code",
   "execution_count": 64,
   "metadata": {},
   "outputs": [
    {
     "name": "stdout",
     "output_type": "stream",
     "text": [
      "(42.433367, -76.494768)\n"
     ]
    }
   ],
   "source": [
    "# from geopy.geocoders import Nominatim\n",
    "# geolocator = Nominatim(user_agent=\"tompkins-county-map\")\n",
    "\n",
    "# location = geolocator.geocode(\"Aurora St\" + \" Ithaca, NY\")\n",
    "# # print(location)\n",
    "# print((location.latitude, location.longitude))\n",
    "\n",
    "# # print(location.raw)"
   ]
  },
  {
   "cell_type": "code",
   "execution_count": 72,
   "metadata": {},
   "outputs": [
    {
     "name": "stdout",
     "output_type": "stream",
     "text": [
      "Aurora%20St%20and%20Lincoln%20St%2C%20Ithaca%20NY\n",
      "{'lat': 42.452093, 'lng': -76.4965809}\n"
     ]
    }
   ],
   "source": [
    "import requests\n",
    "from urllib.parse import quote\n",
    "\n",
    "def loc(streetA, streetB):\n",
    "    res = requests.get('https://www.google.com/maps/place/'+streetA+' & '+streetB)\n",
    "\n",
    "\n",
    "addy = \"Aurora St and Lincoln St, Ithaca NY\"\n",
    "addy = quote(addy)\n",
    "# print(addy)\n",
    "\n",
    "response = requests.get(f'https://maps.googleapis.com/maps/api/geocode/json?address={addy}&key={key}')\n",
    "\n",
    "resp_json_payload = response.json()\n",
    "\n",
    "# print(resp_json_payload)\n",
    "print(resp_json_payload['results'][0]['geometry']['location'])"
   ]
  },
  {
   "cell_type": "code",
   "execution_count": null,
   "metadata": {},
   "outputs": [],
   "source": []
  },
  {
   "cell_type": "code",
   "execution_count": 67,
   "metadata": {},
   "outputs": [
    {
     "name": "stdout",
     "output_type": "stream",
     "text": [
      "<bound method Response.json of <Response [200]>>\n"
     ]
    }
   ],
   "source": [
    "# def loc(streetA, streetB):\n",
    "#     res = requests.get('https://www.google.com/maps/place/'+streetA+' & '+streetB)\n",
    "#     # return res.findall(f'll=(.*?)\" item', res.text)[0].split(',')\n",
    "#     return res.json\n",
    "\n",
    "# gps = loc('19th rd nw', 'kafir rd')\n",
    "# print(gps)"
   ]
  }
 ],
 "metadata": {
  "kernelspec": {
   "display_name": "Python 3.10.6 64-bit",
   "language": "python",
   "name": "python3"
  },
  "language_info": {
   "codemirror_mode": {
    "name": "ipython",
    "version": 3
   },
   "file_extension": ".py",
   "mimetype": "text/x-python",
   "name": "python",
   "nbconvert_exporter": "python",
   "pygments_lexer": "ipython3",
   "version": "3.10.6"
  },
  "orig_nbformat": 4,
  "vscode": {
   "interpreter": {
    "hash": "35d7e08f1f98ee58e9edced7a1043a5fc18613eb6991aa1cd3ec2f710d69752e"
   }
  }
 },
 "nbformat": 4,
 "nbformat_minor": 2
}
