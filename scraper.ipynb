{
 "cells": [
  {
   "cell_type": "code",
   "execution_count": 75,
   "metadata": {},
   "outputs": [],
   "source": [
    "import pandas as pd\n",
    "import numpy as np\n",
    "import tabula\n",
    "import geopy\n",
    "import geopandas\n",
    "import requests"
   ]
  },
  {
   "cell_type": "code",
   "execution_count": 79,
   "metadata": {},
   "outputs": [
    {
     "data": {
      "text/html": [
       "<div>\n",
       "<style scoped>\n",
       "    .dataframe tbody tr th:only-of-type {\n",
       "        vertical-align: middle;\n",
       "    }\n",
       "\n",
       "    .dataframe tbody tr th {\n",
       "        vertical-align: top;\n",
       "    }\n",
       "\n",
       "    .dataframe thead th {\n",
       "        text-align: right;\n",
       "    }\n",
       "</style>\n",
       "<table border=\"1\" class=\"dataframe\">\n",
       "  <thead>\n",
       "    <tr style=\"text-align: right;\">\n",
       "      <th></th>\n",
       "      <th>Count Location</th>\n",
       "      <th>Muni</th>\n",
       "      <th>FROM</th>\n",
       "      <th>TO</th>\n",
       "      <th>Year</th>\n",
       "      <th>AADT</th>\n",
       "    </tr>\n",
       "  </thead>\n",
       "  <tbody>\n",
       "    <tr>\n",
       "      <th>0</th>\n",
       "      <td>Albany St</td>\n",
       "      <td>C/Ithaca</td>\n",
       "      <td>Traffic Circle</td>\n",
       "      <td>Titus Ave S</td>\n",
       "      <td>2019</td>\n",
       "      <td>3,239</td>\n",
       "    </tr>\n",
       "    <tr>\n",
       "      <th>1</th>\n",
       "      <td>Albany St</td>\n",
       "      <td>C/Ithaca</td>\n",
       "      <td>Titus Ave S</td>\n",
       "      <td>Titus Ave N</td>\n",
       "      <td>2020</td>\n",
       "      <td>1,864</td>\n",
       "    </tr>\n",
       "    <tr>\n",
       "      <th>2</th>\n",
       "      <td>Asbury Rd</td>\n",
       "      <td>T/Lansing</td>\n",
       "      <td>Rt 34</td>\n",
       "      <td>Warren Rd</td>\n",
       "      <td>2019</td>\n",
       "      <td>1,434</td>\n",
       "    </tr>\n",
       "    <tr>\n",
       "      <th>3</th>\n",
       "      <td>Aurora St</td>\n",
       "      <td>C/Ithaca</td>\n",
       "      <td>Lincoln St</td>\n",
       "      <td>Falls St</td>\n",
       "      <td>2019</td>\n",
       "      <td>247</td>\n",
       "    </tr>\n",
       "    <tr>\n",
       "      <th>4</th>\n",
       "      <td>Aurora St</td>\n",
       "      <td>C/Ithaca</td>\n",
       "      <td>Marshall St</td>\n",
       "      <td>Lincoln St</td>\n",
       "      <td>2020</td>\n",
       "      <td>1,371</td>\n",
       "    </tr>\n",
       "    <tr>\n",
       "      <th>5</th>\n",
       "      <td>Aurora St</td>\n",
       "      <td>C/Ithaca</td>\n",
       "      <td>Seneca St</td>\n",
       "      <td>Court St</td>\n",
       "      <td>2020</td>\n",
       "      <td>4,079</td>\n",
       "    </tr>\n",
       "    <tr>\n",
       "      <th>6</th>\n",
       "      <td>Aurora St</td>\n",
       "      <td>C/Ithaca</td>\n",
       "      <td>Prospect St</td>\n",
       "      <td>State St</td>\n",
       "      <td>2020</td>\n",
       "      <td>6,746</td>\n",
       "    </tr>\n",
       "    <tr>\n",
       "      <th>7</th>\n",
       "      <td>Aurora St</td>\n",
       "      <td>C/Ithaca</td>\n",
       "      <td>Court St</td>\n",
       "      <td>Marshall St</td>\n",
       "      <td>2020</td>\n",
       "      <td>1,800</td>\n",
       "    </tr>\n",
       "    <tr>\n",
       "      <th>8</th>\n",
       "      <td>Bald Hill Rd</td>\n",
       "      <td>T/Danby</td>\n",
       "      <td>Comfort Rd</td>\n",
       "      <td>Rt 96B</td>\n",
       "      <td>2020</td>\n",
       "      <td>139</td>\n",
       "    </tr>\n",
       "    <tr>\n",
       "      <th>9</th>\n",
       "      <td>Benson Rd</td>\n",
       "      <td>T/Lansing</td>\n",
       "      <td>Rt 34B</td>\n",
       "      <td>Asbury Rd</td>\n",
       "      <td>2021</td>\n",
       "      <td>338</td>\n",
       "    </tr>\n",
       "  </tbody>\n",
       "</table>\n",
       "</div>"
      ],
      "text/plain": [
       "  Count Location       Muni            FROM           TO  Year   AADT\n",
       "0      Albany St   C/Ithaca  Traffic Circle  Titus Ave S  2019  3,239\n",
       "1      Albany St   C/Ithaca     Titus Ave S  Titus Ave N  2020  1,864\n",
       "2      Asbury Rd  T/Lansing           Rt 34    Warren Rd  2019  1,434\n",
       "3      Aurora St   C/Ithaca      Lincoln St     Falls St  2019    247\n",
       "4      Aurora St   C/Ithaca     Marshall St   Lincoln St  2020  1,371\n",
       "5      Aurora St   C/Ithaca       Seneca St     Court St  2020  4,079\n",
       "6      Aurora St   C/Ithaca     Prospect St     State St  2020  6,746\n",
       "7      Aurora St   C/Ithaca        Court St  Marshall St  2020  1,800\n",
       "8   Bald Hill Rd    T/Danby      Comfort Rd       Rt 96B  2020    139\n",
       "9      Benson Rd  T/Lansing          Rt 34B    Asbury Rd  2021    338"
      ]
     },
     "execution_count": 79,
     "metadata": {},
     "output_type": "execute_result"
    }
   ],
   "source": [
    "# read pdf to dataframe - doesn't work for sept22.pdf\n",
    "dfs = tabula.read_pdf(\"trafficcount.pdf\", output_format='dataframe', pages='7-13', lattice=False)\n",
    "# df = pd.DataFrame(df)\n",
    "# df.head()\n",
    "# tab = pd.DataFrame(tabula.read_pdf('trafficcount.pdf', pages ='7-13')[0])\n",
    "df = pd.DataFrame()\n",
    "# for i in dfs:\n",
    "df = pd.concat(dfs)\n",
    "df = df.dropna(axis='rows',thresh=3)\n",
    "df = df[['Count Location', 'Muni', 'FROM', 'TO', 'Year', 'AADT']]\n",
    "df.head(10)\n",
    "\n"
   ]
  },
  {
   "cell_type": "code",
   "execution_count": 77,
   "metadata": {},
   "outputs": [],
   "source": [
    "# extract key from env\n",
    "import os\n",
    "from dotenv import load_dotenv\n",
    "\n",
    "load_dotenv()  # take environment variables from .env.\n",
    "key = os.environ.get(\"API_KEY\")"
   ]
  },
  {
   "cell_type": "code",
   "execution_count": 64,
   "metadata": {},
   "outputs": [
    {
     "name": "stdout",
     "output_type": "stream",
     "text": [
      "(42.433367, -76.494768)\n"
     ]
    }
   ],
   "source": [
    "# from geopy.geocoders import Nominatim\n",
    "# geolocator = Nominatim(user_agent=\"tompkins-county-map\")\n",
    "\n",
    "# location = geolocator.geocode(\"Aurora St\" + \" Ithaca, NY\")\n",
    "# # print(location)\n",
    "# print((location.latitude, location.longitude))\n",
    "\n",
    "# # print(location.raw)"
   ]
  },
  {
   "cell_type": "code",
   "execution_count": 78,
   "metadata": {},
   "outputs": [
    {
     "name": "stdout",
     "output_type": "stream",
     "text": [
      "{'lat': 42.452093, 'lng': -76.4965809}\n"
     ]
    }
   ],
   "source": [
    "import requests\n",
    "from urllib.parse import quote\n",
    "\n",
    "def loc(streetA, streetB):\n",
    "    addy = streetA + \" and \" + streetB + \", Ithaca NY\"\n",
    "    addy = quote(addy)\n",
    "    response = requests.get(f'https://maps.googleapis.com/maps/api/geocode/json?address={addy}&key={key}')\n",
    "    resp_json_payload = response.json()\n",
    "    return resp_json_payload['results'][0]['geometry']['location']['lng'], resp_json_payload['results'][0]['geometry']['location']['lng']\n"
   ]
  },
  {
   "cell_type": "code",
   "execution_count": 103,
   "metadata": {},
   "outputs": [
    {
     "name": "stdout",
     "output_type": "stream",
     "text": [
      "42.452093\n"
     ]
    }
   ],
   "source": [
    "print(resp_json_payload['results'][0]['geometry']['location']['lat'])\n",
    "\n"
   ]
  },
  {
   "cell_type": "code",
   "execution_count": 106,
   "metadata": {},
   "outputs": [
    {
     "name": "stdout",
     "output_type": "stream",
     "text": [
      "<class 'tuple'>\n"
     ]
    }
   ],
   "source": [
    "def func(a,b):\n",
    "    return a+1,b+1\n",
    "\n",
    "result = [func(1,2)]\n",
    "print(type(func(1,2)))\n",
    "# print(result)"
   ]
  },
  {
   "cell_type": "code",
   "execution_count": 108,
   "metadata": {},
   "outputs": [
    {
     "data": {
      "text/html": [
       "<div>\n",
       "<style scoped>\n",
       "    .dataframe tbody tr th:only-of-type {\n",
       "        vertical-align: middle;\n",
       "    }\n",
       "\n",
       "    .dataframe tbody tr th {\n",
       "        vertical-align: top;\n",
       "    }\n",
       "\n",
       "    .dataframe thead th {\n",
       "        text-align: right;\n",
       "    }\n",
       "</style>\n",
       "<table border=\"1\" class=\"dataframe\">\n",
       "  <thead>\n",
       "    <tr style=\"text-align: right;\">\n",
       "      <th></th>\n",
       "      <th>0</th>\n",
       "    </tr>\n",
       "  </thead>\n",
       "  <tbody>\n",
       "    <tr>\n",
       "      <th>0</th>\n",
       "      <td>Albany St</td>\n",
       "    </tr>\n",
       "    <tr>\n",
       "      <th>1</th>\n",
       "      <td>Albany St</td>\n",
       "    </tr>\n",
       "    <tr>\n",
       "      <th>2</th>\n",
       "      <td>Asbury Rd</td>\n",
       "    </tr>\n",
       "    <tr>\n",
       "      <th>3</th>\n",
       "      <td>Aurora St</td>\n",
       "    </tr>\n",
       "    <tr>\n",
       "      <th>4</th>\n",
       "      <td>Aurora St</td>\n",
       "    </tr>\n",
       "  </tbody>\n",
       "</table>\n",
       "</div>"
      ],
      "text/plain": [
       "           0\n",
       "0  Albany St\n",
       "1  Albany St\n",
       "2  Asbury Rd\n",
       "3  Aurora St\n",
       "4  Aurora St"
      ]
     },
     "execution_count": 108,
     "metadata": {},
     "output_type": "execute_result"
    }
   ],
   "source": [
    "result = [[loc(x,y),loc(x,z)] for x, y, z in zip(df['Count Location'],df['FROM'],df['TO'])]\n",
    "\n",
    "dg = pd.DataFrame(result)\n",
    "dg.head()"
   ]
  },
  {
   "cell_type": "code",
   "execution_count": null,
   "metadata": {},
   "outputs": [],
   "source": []
  }
 ],
 "metadata": {
  "kernelspec": {
   "display_name": "Python 3.10.6 64-bit",
   "language": "python",
   "name": "python3"
  },
  "language_info": {
   "codemirror_mode": {
    "name": "ipython",
    "version": 3
   },
   "file_extension": ".py",
   "mimetype": "text/x-python",
   "name": "python",
   "nbconvert_exporter": "python",
   "pygments_lexer": "ipython3",
   "version": "3.10.6"
  },
  "orig_nbformat": 4,
  "vscode": {
   "interpreter": {
    "hash": "35d7e08f1f98ee58e9edced7a1043a5fc18613eb6991aa1cd3ec2f710d69752e"
   }
  }
 },
 "nbformat": 4,
 "nbformat_minor": 2
}
